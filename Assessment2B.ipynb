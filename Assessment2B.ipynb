{
  "cells": [
    {
      "cell_type": "markdown",
      "metadata": {
        "id": "view-in-github",
        "colab_type": "text"
      },
      "source": [
        "<a href=\"https://colab.research.google.com/github/GayathriPgithub/DS-Assignment/blob/main/Assessment2B.ipynb\" target=\"_parent\"><img src=\"https://colab.research.google.com/assets/colab-badge.svg\" alt=\"Open In Colab\"/></a>"
      ]
    },
    {
      "cell_type": "markdown",
      "metadata": {
        "id": "2hMzSUHMTmxK"
      },
      "source": [
        "###### Assessment"
      ]
    },
    {
      "cell_type": "markdown",
      "metadata": {
        "id": "HTFr1TlWTmxk"
      },
      "source": [
        "###### I am going to provide two .csv files , you are supposed to work on them and have to provide solutions to the following problems"
      ]
    },
    {
      "cell_type": "markdown",
      "metadata": {
        "id": "_6_vpQm7Tmxm"
      },
      "source": [
        "###### import necessary libraries"
      ]
    },
    {
      "cell_type": "code",
      "execution_count": null,
      "metadata": {
        "id": "LhMgaaAFTmxo"
      },
      "outputs": [],
      "source": [
        "import pandas as pd\n",
        "from google.colab import files\n",
        "files.upload()"
      ]
    },
    {
      "cell_type": "markdown",
      "metadata": {
        "id": "XfEkYbOOTmxq"
      },
      "source": [
        "###### merge those two csv files (after getting as dataframes, get them as a single dataframe)"
      ]
    },
    {
      "cell_type": "code",
      "execution_count": null,
      "metadata": {
        "id": "J2256_RLTmxs"
      },
      "outputs": [],
      "source": [
        "file1=pd.read_csv(\"college_1.csv\")\n",
        "file2=pd.read_csv(\"college_2.csv\")\n",
        "\n",
        "df1=pd.DataFrame(file1)\n",
        "df2=pd.DataFrame(file2)\n",
        "\n",
        "df=pd.concat([df1,df2])\n",
        "df"
      ]
    },
    {
      "cell_type": "markdown",
      "metadata": {
        "id": "d86KoSN_Tmxw"
      },
      "source": [
        "###### Take each csv file , split that csv file into multiple categories (example csv files are added in the repo) \n"
      ]
    },
    {
      "cell_type": "markdown",
      "metadata": {
        "id": "2kKf5OszTmxz"
      },
      "source": [
        "###### consider if the codekata score exceeds 15000 points(present week) then make a csv on those observations as Exceeded expectations.csv\n"
      ]
    },
    {
      "cell_type": "markdown",
      "metadata": {
        "id": "WbgKqHofTmx2"
      },
      "source": [
        "###### if  10000<codekata score<15000   (Reached_expectations.csv)\n",
        "\n"
      ]
    },
    {
      "cell_type": "markdown",
      "metadata": {
        "id": "GjhI9HWQTmx4"
      },
      "source": [
        "###### if  7000<codekata score<10000   (Needs_Improvement.csv)\n"
      ]
    },
    {
      "cell_type": "markdown",
      "metadata": {
        "id": "VnKn4Xg5Tmx5"
      },
      "source": [
        "###### if  codekate score < 7000        (Unsatisfactory.csv)"
      ]
    },
    {
      "cell_type": "code",
      "execution_count": null,
      "metadata": {
        "id": "4JvrelVvTmx7"
      },
      "outputs": [],
      "source": [
        "a=df1[df1[\"CodeKata Score\"]>15000]\n",
        "b=a.to_csv(\" Exceeded_expectations.csv\")\n",
        "\n",
        "c=df1[(df1[\"CodeKata Score\"]>10000) & (df1[\"CodeKata Score\"]<15000) ]\n",
        "d=c.to_csv(\"Reached_expectations.csv\")\n",
        "\n",
        "e=df1[(df1[\"CodeKata Score\"]>7000) & (df1[\"CodeKata Score\"]<10000) ]\n",
        "f=e.to_csv(\"Needs_Improvement.csv\")\n",
        "\n",
        "g=df1[df1[\"CodeKata Score\"]<7000]\n",
        "h=g.to_csv(\"Unsatisfactory.csv\")"
      ]
    },
    {
      "cell_type": "code",
      "execution_count": null,
      "metadata": {
        "id": "l3pmc7lQTmx8"
      },
      "outputs": [],
      "source": [
        "a1=df2[df2[\"CodeKata Score\"]>15000]\n",
        "b1=a1.to_csv(\" Exceeded_expectations.csv\")\n",
        "\n",
        "c1=df2[(df2[\"CodeKata Score\"]>10000) & (df2[\"CodeKata Score\"]<15000) ]\n",
        "d1=c1.to_csv(\"Reached_expectations.csv\")\n",
        "\n",
        "e1=df2[(df2[\"CodeKata Score\"]>7000) & (df2[\"CodeKata Score\"]<10000) ]\n",
        "f1=e1.to_csv(\"Needs_Improvement.csv\")\n",
        "\n",
        "g1=df2[df2[\"CodeKata Score\"]<7000]\n",
        "h1=g1.to_csv(\"Unsatisfactory.csv\")"
      ]
    },
    {
      "cell_type": "markdown",
      "metadata": {
        "id": "DdC2lktlTmx9"
      },
      "source": [
        "###### Average of previous week geekions vs this week geekions (i.e Previous Geekions vs CodeKata Score)"
      ]
    },
    {
      "cell_type": "code",
      "execution_count": null,
      "metadata": {
        "id": "XOeO0hk0Tmx-"
      },
      "outputs": [],
      "source": [
        "import numpy as np\n",
        "avg1=np.mean(df[\"Previous Geekions\"])\n",
        "avg2=np.mean(df[\"CodeKata Score\"])\n",
        "\n",
        "result=avg1/avg2"
      ]
    },
    {
      "cell_type": "markdown",
      "metadata": {
        "id": "HEWK4TTdTmx_"
      },
      "source": [
        "###### No of students participated "
      ]
    },
    {
      "cell_type": "code",
      "execution_count": null,
      "metadata": {
        "id": "bqvejQ4STmx_"
      },
      "outputs": [],
      "source": [
        "len(df.index)"
      ]
    },
    {
      "cell_type": "markdown",
      "metadata": {
        "id": "HUqIhUIyTmyA"
      },
      "source": [
        "###### #Average completion of python course or my_sql or python english or computational thinking"
      ]
    },
    {
      "cell_type": "code",
      "execution_count": null,
      "metadata": {
        "id": "XaZvJmm1TmyB"
      },
      "outputs": [],
      "source": [
        "avg_mysql=df[\"mysql\"].mean()\n",
        "avg_mysql\n",
        "\n",
        "avg_python=df[\"python\"].mean()\n",
        "avg_python\n",
        "\n",
        "avg_pyen=df[\"python_en\"].mean()\n",
        "avg_pyen\n",
        "\n",
        "avg_compthink=df[\"computational_thinking\"].mean()\n",
        "avg_compthink"
      ]
    },
    {
      "cell_type": "markdown",
      "metadata": {
        "id": "s_oiiApTTmyC"
      },
      "source": [
        "###### rising star of the week (top 3 candidate who performed well in that particular week)"
      ]
    },
    {
      "cell_type": "code",
      "execution_count": null,
      "metadata": {
        "id": "QQCRrKU5TmyD"
      },
      "outputs": [],
      "source": [
        "df[\"rank\"]=df[\"Rising\"].rank(method=\"dense\",ascending=False).astype(int)\n",
        "rising_star=df[df[\"rank\"]<=3]\n",
        "rising_star"
      ]
    },
    {
      "cell_type": "markdown",
      "metadata": {
        "id": "oZVFvQnBTmyE"
      },
      "source": [
        "###### Shining stars of the week (top 3 candidates who has highest geekions)"
      ]
    },
    {
      "cell_type": "code",
      "execution_count": null,
      "metadata": {
        "id": "zuQegrrUTmyE"
      },
      "outputs": [],
      "source": [
        "df[\"rank\"]=df[\"CodeKata Score\"].rank(method=\"dense\",ascending=False).astype(int)\n",
        "shining_star=df[df[\"rank\"]<=3]\n",
        "shining_star"
      ]
    },
    {
      "cell_type": "markdown",
      "metadata": {
        "id": "bZl0WWh9TmyE"
      },
      "source": [
        "###### Department wise codekata performence (pie chart)"
      ]
    },
    {
      "cell_type": "code",
      "execution_count": null,
      "metadata": {
        "id": "suoJDp3STmyF"
      },
      "outputs": [],
      "source": [
        "import matplotlib.pyplot as plt\n",
        "\n",
        "tempdf=df.groupby(by=[\"Department\"])[\"CodeKata Score\"].sum()\n",
        "tempdf=tempdf.reset_index()\n",
        "tempdf\n",
        "\n",
        "plt.pie(tempdf[\"CodeKata Score\"],labels=tempdf[\"Department\"])\n",
        "plt.show"
      ]
    },
    {
      "cell_type": "markdown",
      "metadata": {
        "id": "cVD1b1y7TmyF"
      },
      "source": [
        "###### Department wise toppers (horizantal bar graph or any visual representations of your choice)"
      ]
    },
    {
      "cell_type": "code",
      "execution_count": null,
      "metadata": {
        "id": "lz6jTbZUTmyG"
      },
      "outputs": [],
      "source": [
        "df[\"rank\"] = df.groupby(\"Department\")[\"CodeKata Score\"].rank(\"dense\", ascending=False)\n",
        "toppers=df[df[\"rank\"]==1]\n",
        "toppers"
      ]
    },
    {
      "cell_type": "code",
      "execution_count": null,
      "metadata": {
        "id": "V1zEOgotTmyG"
      },
      "outputs": [],
      "source": [
        "import seaborn as sns\n",
        "sns.stripplot(x=\"Name\",y=\"CodeKata Score\",hue=\"Department\",data=toppers)\n",
        "plt.title(\"Toppers\")"
      ]
    },
    {
      "cell_type": "code",
      "execution_count": null,
      "metadata": {
        "id": "Q0Rop1DWTmyH"
      },
      "outputs": [],
      "source": [
        "import numpy as np\n",
        "y_pos=np.arange(len(toppers[\"Name\"]))\n",
        "plt.barh(y=y_pos,width=toppers[\"CodeKata Score\"])\n",
        "plt.yticks(y_pos,toppers[\"Name\"])\n",
        "plt.xlabel(\"CodeKata Score\")\n",
        "plt.show"
      ]
    },
    {
      "cell_type": "code",
      "execution_count": null,
      "metadata": {
        "id": "8rZc7gBFTmyH"
      },
      "outputs": [],
      "source": [
        ""
      ]
    }
  ],
  "metadata": {
    "kernelspec": {
      "display_name": "Python 3",
      "language": "python",
      "name": "python3"
    },
    "language_info": {
      "codemirror_mode": {
        "name": "ipython",
        "version": 3
      },
      "file_extension": ".py",
      "mimetype": "text/x-python",
      "name": "python",
      "nbconvert_exporter": "python",
      "pygments_lexer": "ipython3",
      "version": "3.8.3"
    },
    "colab": {
      "name": "Assessment2B.ipynb",
      "provenance": [],
      "include_colab_link": true
    }
  },
  "nbformat": 4,
  "nbformat_minor": 0
}